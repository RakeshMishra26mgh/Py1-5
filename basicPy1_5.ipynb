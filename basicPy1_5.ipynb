{
  "nbformat": 4,
  "nbformat_minor": 0,
  "metadata": {
    "colab": {
      "provenance": [],
      "authorship_tag": "ABX9TyM4ag47Y03m6De+bSHIeKq+",
      "include_colab_link": true
    },
    "kernelspec": {
      "name": "python3",
      "display_name": "Python 3"
    },
    "language_info": {
      "name": "python"
    }
  },
  "cells": [
    {
      "cell_type": "markdown",
      "metadata": {
        "id": "view-in-github",
        "colab_type": "text"
      },
      "source": [
        "<a href=\"https://colab.research.google.com/github/RakeshMishra26mgh/Py1-5/blob/main/basicPy1_5.ipynb\" target=\"_parent\"><img src=\"https://colab.research.google.com/assets/colab-badge.svg\" alt=\"Open In Colab\"/></a>"
      ]
    },
    {
      "cell_type": "markdown",
      "source": [
        "Answer 1:-"
      ],
      "metadata": {
        "id": "rFQ9UI6MZltc"
      }
    },
    {
      "cell_type": "code",
      "source": [
        "a=int(input(\"enter the value of a:\"))\n",
        "b=int(input(\"enter the value of b:\"))\n",
        "if a>b:\n",
        "  smaller=b\n",
        "else:\n",
        "  smaller=a\n",
        "for i in range(1,smaller+1):\n",
        "  if((a%i)==0)and((b%i)==0):\n",
        "    hcf=i\n",
        "lcm=(a*b)/hcf\n",
        "print(f\"lcm is :{lcm}\")       "
      ],
      "metadata": {
        "id": "NhG3dy4uZphn"
      },
      "execution_count": null,
      "outputs": []
    },
    {
      "cell_type": "markdown",
      "source": [
        "Answer 2:-"
      ],
      "metadata": {
        "id": "bX6RYaQsdxVR"
      }
    },
    {
      "cell_type": "code",
      "source": [
        "a=int(input(\"enter the value of a:\"))\n",
        "b=int(input(\"enter the value of b:\"))\n",
        "if a>b:\n",
        "  smaller=b\n",
        "else:\n",
        "  smaller=a\n",
        "for i in range(1,smaller+1):\n",
        "  if((a%i)==0)and((b%i)==0):\n",
        "    hcf=i\n",
        "print(f\"hcf is :{hcf}\")  "
      ],
      "metadata": {
        "id": "0wjLIPgYdzxO"
      },
      "execution_count": null,
      "outputs": []
    },
    {
      "cell_type": "markdown",
      "source": [
        "Answer 3:-"
      ],
      "metadata": {
        "id": "vzObFhczeGh8"
      }
    },
    {
      "cell_type": "code",
      "source": [
        "decimal_num=int(input(\"enter a number to be converted  :\"))\n",
        "print(f\"so the decimal number {decimal_num} is represented as:-\")\n",
        "print(bin(decimal_num),\"in binary format\")\n",
        "print(oct(decimal_num),\"in octal format\")\n",
        "print(hex(decimal_num), \"in hexadecimal format\")\n"
      ],
      "metadata": {
        "id": "32_zEYcWeJyo"
      },
      "execution_count": null,
      "outputs": []
    },
    {
      "cell_type": "markdown",
      "source": [
        "Answer 4:-"
      ],
      "metadata": {
        "id": "sjBxKZrZhBEC"
      }
    },
    {
      "cell_type": "code",
      "source": [
        "character=input(\"enter any character :\")\n",
        "print(\"the ASCII value of the given character is :\",ord(character) )"
      ],
      "metadata": {
        "id": "JYbJKWCVhF6e"
      },
      "execution_count": null,
      "outputs": []
    },
    {
      "cell_type": "markdown",
      "source": [
        "Answer 5:-"
      ],
      "metadata": {
        "id": "xo5EYadlk74e"
      }
    },
    {
      "cell_type": "code",
      "source": [
        "n1=int(input(\"enter the first number :\"))\n",
        "operation=int(input(\"press----->> 1 to add  , 2 to subtract , 3 to multiply , 4 to divide:\"))\n",
        "n2=int(input(\"enter the second number :\"))\n",
        "if(operation==1):\n",
        "  print(\"result after addition :\",(n1+n2))\n",
        "elif(operation==2):\n",
        "  print(f\"result after subtraction:\",(n1-n2))\n",
        "elif(operation==3):\n",
        "  print(f\"the result after multiplication:\",(n1*n2))\n",
        "elif(operation==4):\n",
        "  print(f\"the result after division:\",(n1/n2)) \n",
        "else:\n",
        "  print(\"you entered wrong choice for operation , enter again\")         \n",
        "   \n"
      ],
      "metadata": {
        "id": "Odr5OLOXk-ON"
      },
      "execution_count": null,
      "outputs": []
    }
  ]
}